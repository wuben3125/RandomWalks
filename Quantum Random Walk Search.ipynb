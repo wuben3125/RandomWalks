{
 "cells": [
  {
   "cell_type": "markdown",
   "metadata": {},
   "source": [
    "# Quantum Random Walk Search\n",
    "Source: \n",
    "* https://arxiv.org/pdf/quant-ph/0210064.pdf\n",
    "* https://digitalcommons.calpoly.edu/cgi/viewcontent.cgi?article=1202&context=physsp\n"
   ]
  },
  {
   "cell_type": "markdown",
   "metadata": {},
   "source": [
    "## Operator + State Definitions"
   ]
  },
  {
   "cell_type": "code",
   "execution_count": 1,
   "metadata": {},
   "outputs": [],
   "source": [
    "import numpy as np"
   ]
  },
  {
   "cell_type": "code",
   "execution_count": 2,
   "metadata": {},
   "outputs": [],
   "source": [
    "n = 2\n",
    "\n",
    "psi_c = 1/2**0.5 * np.array([[1],\n",
    "                            [1]]) # equal superposition\n",
    "\n",
    "G = 2*np.outer(psi_c, psi_c.T) - np.eye(n)"
   ]
  },
  {
   "cell_type": "code",
   "execution_count": 3,
   "metadata": {},
   "outputs": [],
   "source": [
    "G = np.round(G)"
   ]
  },
  {
   "cell_type": "code",
   "execution_count": 4,
   "metadata": {},
   "outputs": [
    {
     "name": "stdout",
     "output_type": "stream",
     "text": [
      "[[-0.  1.]\n",
      " [ 1. -0.]]\n"
     ]
    }
   ],
   "source": [
    "print(G)"
   ]
  },
  {
   "cell_type": "code",
   "execution_count": 5,
   "metadata": {},
   "outputs": [
    {
     "name": "stdout",
     "output_type": "stream",
     "text": [
      "[[0 1 0 0 0 0 0 0]\n",
      " [1 0 0 0 0 0 0 0]\n",
      " [0 0 0 1 0 0 0 0]\n",
      " [0 0 1 0 0 0 0 0]\n",
      " [0 0 0 0 0 0 1 0]\n",
      " [0 0 0 0 0 0 0 1]\n",
      " [0 0 0 0 1 0 0 0]\n",
      " [0 0 0 0 0 1 0 0]]\n"
     ]
    }
   ],
   "source": [
    "S = np.kron(np.array([[1,0],[0,0]]), np.array([[0,1,0,0],[1,0,0,0],[0,0,0,1],[0,0,1,0]])) \\\n",
    "    + np.kron(np.array([[0,0],[0,1]]), np.array([[0,0,1,0], [0,0,0,1], [1,0,0,0], [0,1,0,0]]))\n",
    "\n",
    "print(S)"
   ]
  },
  {
   "cell_type": "code",
   "execution_count": 6,
   "metadata": {},
   "outputs": [],
   "source": [
    "U = S @ (np.kron(G, np.eye(2**n)))"
   ]
  },
  {
   "cell_type": "code",
   "execution_count": 7,
   "metadata": {},
   "outputs": [
    {
     "name": "stdout",
     "output_type": "stream",
     "text": [
      "[[0. 0. 0. 0. 0. 1. 0. 0.]\n",
      " [0. 0. 0. 0. 1. 0. 0. 0.]\n",
      " [0. 0. 0. 0. 0. 0. 0. 1.]\n",
      " [0. 0. 0. 0. 0. 0. 1. 0.]\n",
      " [0. 0. 1. 0. 0. 0. 0. 0.]\n",
      " [0. 0. 0. 1. 0. 0. 0. 0.]\n",
      " [1. 0. 0. 0. 0. 0. 0. 0.]\n",
      " [0. 1. 0. 0. 0. 0. 0. 0.]]\n"
     ]
    }
   ],
   "source": [
    "print(U)"
   ]
  },
  {
   "cell_type": "code",
   "execution_count": 8,
   "metadata": {},
   "outputs": [],
   "source": [
    "## instantiate target state\n",
    "\n",
    "x_target = np.array([[0],\n",
    "                    [1],\n",
    "                    [0],\n",
    "                    [0]]) ## |x_target> = |01>\n",
    "\n",
    "# x_target = np.array([[1],[0],[0],[0]])\n",
    "# x_target = np.array([[0], [0], [0], [1]])"
   ]
  },
  {
   "cell_type": "code",
   "execution_count": 9,
   "metadata": {},
   "outputs": [],
   "source": [
    "C = - np.eye(n)"
   ]
  },
  {
   "cell_type": "code",
   "execution_count": 10,
   "metadata": {},
   "outputs": [],
   "source": [
    "C_prime = np.kron(G, np.eye(2**n)) + np.kron((C - G), np.outer(x_target, x_target.T) )"
   ]
  },
  {
   "cell_type": "markdown",
   "metadata": {},
   "source": [
    "## Revised C_prime operator: \n",
    "\"the oracle\n",
    "acts instead by applying a marking coin, C1, to the marked node and a different coin, C, to the unmarked nodes\"\n",
    "\n",
    "Accordingly, instead of combining (C-G) with |x_target> <x_target|, it seems to make more sense to combine just (C) with |x_target> <x_target|. Whether the paper's formula is thereby just a typo, the world will never know..."
   ]
  },
  {
   "cell_type": "code",
   "execution_count": 11,
   "metadata": {},
   "outputs": [],
   "source": [
    "## replace (C-G) with just C\n",
    "C_prime_revised = np.kron(G, np.eye(2**n)) + np.kron(C, np.outer(x_target, x_target.T) )"
   ]
  },
  {
   "cell_type": "code",
   "execution_count": 12,
   "metadata": {},
   "outputs": [
    {
     "name": "stdout",
     "output_type": "stream",
     "text": [
      "[[-0. -0. -0. -0.  1.  0.  0.  0.]\n",
      " [-0. -1. -0. -0.  0.  0.  0.  0.]\n",
      " [-0. -0. -0. -0.  0.  0.  1.  0.]\n",
      " [-0. -0. -0. -0.  0.  0.  0.  1.]\n",
      " [ 1.  0.  0.  0. -0. -0. -0. -0.]\n",
      " [ 0.  0.  0.  0. -0. -1. -0. -0.]\n",
      " [ 0.  0.  1.  0. -0. -0. -0. -0.]\n",
      " [ 0.  0.  0.  1. -0. -0. -0. -0.]]\n"
     ]
    }
   ],
   "source": [
    "print(C_prime)"
   ]
  },
  {
   "cell_type": "code",
   "execution_count": 13,
   "metadata": {},
   "outputs": [
    {
     "name": "stdout",
     "output_type": "stream",
     "text": [
      "[[-0. -0. -0. -0.  1.  0.  0.  0.]\n",
      " [-0. -1. -0. -0.  0.  1.  0.  0.]\n",
      " [-0. -0. -0. -0.  0.  0.  1.  0.]\n",
      " [-0. -0. -0. -0.  0.  0.  0.  1.]\n",
      " [ 1.  0.  0.  0. -0. -0. -0. -0.]\n",
      " [ 0.  1.  0.  0. -0. -1. -0. -0.]\n",
      " [ 0.  0.  1.  0. -0. -0. -0. -0.]\n",
      " [ 0.  0.  0.  1. -0. -0. -0. -0.]]\n"
     ]
    }
   ],
   "source": [
    "print(C_prime_revised)"
   ]
  },
  {
   "cell_type": "code",
   "execution_count": 14,
   "metadata": {},
   "outputs": [],
   "source": [
    "U_prime = S @ C_prime"
   ]
  },
  {
   "cell_type": "code",
   "execution_count": 15,
   "metadata": {},
   "outputs": [],
   "source": [
    "U_prime_revised = S @ C_prime_revised"
   ]
  },
  {
   "cell_type": "code",
   "execution_count": 16,
   "metadata": {},
   "outputs": [
    {
     "name": "stdout",
     "output_type": "stream",
     "text": [
      "[[ 0. -1.  0.  0.  0.  0.  0.  0.]\n",
      " [ 0.  0.  0.  0.  1.  0.  0.  0.]\n",
      " [ 0.  0.  0.  0.  0.  0.  0.  1.]\n",
      " [ 0.  0.  0.  0.  0.  0.  1.  0.]\n",
      " [ 0.  0.  1.  0.  0.  0.  0.  0.]\n",
      " [ 0.  0.  0.  1.  0.  0.  0.  0.]\n",
      " [ 1.  0.  0.  0.  0.  0.  0.  0.]\n",
      " [ 0.  0.  0.  0.  0. -1.  0.  0.]]\n"
     ]
    }
   ],
   "source": [
    "print(U_prime)"
   ]
  },
  {
   "cell_type": "code",
   "execution_count": 17,
   "metadata": {},
   "outputs": [
    {
     "name": "stdout",
     "output_type": "stream",
     "text": [
      "[[ 0. -1.  0.  0.  0.  1.  0.  0.]\n",
      " [ 0.  0.  0.  0.  1.  0.  0.  0.]\n",
      " [ 0.  0.  0.  0.  0.  0.  0.  1.]\n",
      " [ 0.  0.  0.  0.  0.  0.  1.  0.]\n",
      " [ 0.  0.  1.  0.  0.  0.  0.  0.]\n",
      " [ 0.  0.  0.  1.  0.  0.  0.  0.]\n",
      " [ 1.  0.  0.  0.  0.  0.  0.  0.]\n",
      " [ 0.  1.  0.  0.  0. -1.  0.  0.]]\n"
     ]
    }
   ],
   "source": [
    "print(U_prime_revised)"
   ]
  },
  {
   "cell_type": "markdown",
   "metadata": {},
   "source": [
    "## Search Evaluation\n",
    "Note: optimal number of evolutions is $\\lfloor \\frac{\\pi}{2} \\sqrt{2^n} \\rfloor = 3$\n",
    "\n",
    "(See page 3 of https://arxiv.org/pdf/quant-ph/0210064.pdf)"
   ]
  },
  {
   "cell_type": "markdown",
   "metadata": {},
   "source": [
    "### Using original U_prime evolution operator"
   ]
  },
  {
   "cell_type": "code",
   "execution_count": 18,
   "metadata": {},
   "outputs": [],
   "source": [
    "## initialization\n",
    "psi_0 = np.kron(psi_c, 1/2*(np.array([[1],[1],[1],[1]])))"
   ]
  },
  {
   "cell_type": "code",
   "execution_count": 19,
   "metadata": {},
   "outputs": [
    {
     "name": "stdout",
     "output_type": "stream",
     "text": [
      "[[0.35355339]\n",
      " [0.35355339]\n",
      " [0.35355339]\n",
      " [0.35355339]\n",
      " [0.35355339]\n",
      " [0.35355339]\n",
      " [0.35355339]\n",
      " [0.35355339]]\n"
     ]
    }
   ],
   "source": [
    "print(psi_0)"
   ]
  },
  {
   "cell_type": "code",
   "execution_count": 20,
   "metadata": {},
   "outputs": [],
   "source": [
    "## first evolution\n",
    "psi_1 = U_prime @ psi_0"
   ]
  },
  {
   "cell_type": "code",
   "execution_count": 21,
   "metadata": {},
   "outputs": [
    {
     "name": "stdout",
     "output_type": "stream",
     "text": [
      "[[-0.35355339]\n",
      " [ 0.35355339]\n",
      " [ 0.35355339]\n",
      " [ 0.35355339]\n",
      " [ 0.35355339]\n",
      " [ 0.35355339]\n",
      " [ 0.35355339]\n",
      " [-0.35355339]]\n"
     ]
    }
   ],
   "source": [
    "print(psi_1)"
   ]
  },
  {
   "cell_type": "code",
   "execution_count": 22,
   "metadata": {},
   "outputs": [],
   "source": [
    "## second evolution\n",
    "psi_2 = U_prime @ psi_1"
   ]
  },
  {
   "cell_type": "code",
   "execution_count": 23,
   "metadata": {},
   "outputs": [
    {
     "name": "stdout",
     "output_type": "stream",
     "text": [
      "[[-0.35355339]\n",
      " [ 0.35355339]\n",
      " [-0.35355339]\n",
      " [ 0.35355339]\n",
      " [ 0.35355339]\n",
      " [ 0.35355339]\n",
      " [-0.35355339]\n",
      " [-0.35355339]]\n"
     ]
    }
   ],
   "source": [
    "print(psi_2)"
   ]
  },
  {
   "cell_type": "code",
   "execution_count": 24,
   "metadata": {},
   "outputs": [],
   "source": [
    "## third evolution\n",
    "psi_3 = U_prime @ psi_2"
   ]
  },
  {
   "cell_type": "code",
   "execution_count": 25,
   "metadata": {},
   "outputs": [
    {
     "name": "stdout",
     "output_type": "stream",
     "text": [
      "[[-0.35355339]\n",
      " [ 0.35355339]\n",
      " [-0.35355339]\n",
      " [-0.35355339]\n",
      " [-0.35355339]\n",
      " [ 0.35355339]\n",
      " [-0.35355339]\n",
      " [-0.35355339]]\n"
     ]
    }
   ],
   "source": [
    "print(psi_3)"
   ]
  },
  {
   "cell_type": "code",
   "execution_count": 26,
   "metadata": {},
   "outputs": [],
   "source": [
    "## fourth evolution\n",
    "psi_4 = U_prime @ psi_3"
   ]
  },
  {
   "cell_type": "code",
   "execution_count": 27,
   "metadata": {},
   "outputs": [
    {
     "name": "stdout",
     "output_type": "stream",
     "text": [
      "[[-0.35355339]\n",
      " [-0.35355339]\n",
      " [-0.35355339]\n",
      " [-0.35355339]\n",
      " [-0.35355339]\n",
      " [-0.35355339]\n",
      " [-0.35355339]\n",
      " [-0.35355339]]\n"
     ]
    }
   ],
   "source": [
    "print(psi_4) # note: this seems to be going in circles"
   ]
  },
  {
   "cell_type": "code",
   "execution_count": 28,
   "metadata": {},
   "outputs": [],
   "source": [
    "## fifth evolution\n",
    "psi_5 = U_prime @ psi_4"
   ]
  },
  {
   "cell_type": "code",
   "execution_count": 29,
   "metadata": {
    "scrolled": true
   },
   "outputs": [
    {
     "name": "stdout",
     "output_type": "stream",
     "text": [
      "[[ 0.35355339]\n",
      " [-0.35355339]\n",
      " [-0.35355339]\n",
      " [-0.35355339]\n",
      " [-0.35355339]\n",
      " [-0.35355339]\n",
      " [-0.35355339]\n",
      " [ 0.35355339]]\n"
     ]
    }
   ],
   "source": [
    "print(psi_5) # note: the probability of measuring the target state has not improved since the initial state"
   ]
  },
  {
   "cell_type": "markdown",
   "metadata": {},
   "source": [
    "#### Result: \n",
    "The repeated evolutions only flip the phases of the superimposed states, and the coefficient of the target state remains the same as the non-target states"
   ]
  },
  {
   "cell_type": "markdown",
   "metadata": {},
   "source": [
    "### Using U_prime_revised evolution operator\n",
    "Note: In definition of C_prime_revised, (C-G) is replaced with C"
   ]
  },
  {
   "cell_type": "code",
   "execution_count": 30,
   "metadata": {},
   "outputs": [],
   "source": [
    "## initialization\n",
    "psi_0 = np.kron(psi_c, 1/2*(np.array([[1],[1],[1],[1]])))"
   ]
  },
  {
   "cell_type": "code",
   "execution_count": 31,
   "metadata": {},
   "outputs": [
    {
     "name": "stdout",
     "output_type": "stream",
     "text": [
      "[[0.35355339]\n",
      " [0.35355339]\n",
      " [0.35355339]\n",
      " [0.35355339]\n",
      " [0.35355339]\n",
      " [0.35355339]\n",
      " [0.35355339]\n",
      " [0.35355339]]\n"
     ]
    }
   ],
   "source": [
    "print(psi_0)"
   ]
  },
  {
   "cell_type": "code",
   "execution_count": 32,
   "metadata": {},
   "outputs": [],
   "source": [
    "## first evolution\n",
    "psi_1 = U_prime_revised @ psi_0"
   ]
  },
  {
   "cell_type": "code",
   "execution_count": 33,
   "metadata": {},
   "outputs": [
    {
     "name": "stdout",
     "output_type": "stream",
     "text": [
      "[[0.        ]\n",
      " [0.35355339]\n",
      " [0.35355339]\n",
      " [0.35355339]\n",
      " [0.35355339]\n",
      " [0.35355339]\n",
      " [0.35355339]\n",
      " [0.        ]]\n"
     ]
    }
   ],
   "source": [
    "print(psi_1)"
   ]
  },
  {
   "cell_type": "code",
   "execution_count": 34,
   "metadata": {},
   "outputs": [],
   "source": [
    "## second evolution\n",
    "psi_2 = U_prime_revised @ psi_1"
   ]
  },
  {
   "cell_type": "code",
   "execution_count": 35,
   "metadata": {},
   "outputs": [
    {
     "name": "stdout",
     "output_type": "stream",
     "text": [
      "[[0.        ]\n",
      " [0.35355339]\n",
      " [0.        ]\n",
      " [0.35355339]\n",
      " [0.35355339]\n",
      " [0.35355339]\n",
      " [0.        ]\n",
      " [0.        ]]\n"
     ]
    }
   ],
   "source": [
    "print(psi_2) # note: here, the probability of measuring the target state is improved to 50% (accounting for renormalization)\n",
    "# state: |0>|01> + |0>|11> + |1>|00> + |1>|01>"
   ]
  },
  {
   "cell_type": "code",
   "execution_count": 36,
   "metadata": {},
   "outputs": [],
   "source": [
    "## third evolution\n",
    "psi_3 = U_prime_revised @ psi_2"
   ]
  },
  {
   "cell_type": "code",
   "execution_count": 37,
   "metadata": {},
   "outputs": [
    {
     "name": "stdout",
     "output_type": "stream",
     "text": [
      "[[0.        ]\n",
      " [0.35355339]\n",
      " [0.        ]\n",
      " [0.        ]\n",
      " [0.        ]\n",
      " [0.35355339]\n",
      " [0.        ]\n",
      " [0.        ]]\n"
     ]
    }
   ],
   "source": [
    "print(psi_3) # note: here, the probability of measuring the target state is greatly improved to 100% (accounting for renormalization)\n",
    "# state: |0>|01> + |1>|01>"
   ]
  },
  {
   "cell_type": "code",
   "execution_count": 38,
   "metadata": {},
   "outputs": [],
   "source": [
    "## fourth evolution\n",
    "psi_4 = U_prime_revised @ psi_3"
   ]
  },
  {
   "cell_type": "code",
   "execution_count": 39,
   "metadata": {},
   "outputs": [
    {
     "name": "stdout",
     "output_type": "stream",
     "text": [
      "[[0.]\n",
      " [0.]\n",
      " [0.]\n",
      " [0.]\n",
      " [0.]\n",
      " [0.]\n",
      " [0.]\n",
      " [0.]]\n"
     ]
    }
   ],
   "source": [
    "print(psi_4) # note: after this point, the evolutions no longer benefit the search"
   ]
  },
  {
   "cell_type": "code",
   "execution_count": 40,
   "metadata": {},
   "outputs": [],
   "source": [
    "## fifth evolution\n",
    "psi_5 = U_prime_revised @ psi_4"
   ]
  },
  {
   "cell_type": "code",
   "execution_count": 41,
   "metadata": {},
   "outputs": [
    {
     "name": "stdout",
     "output_type": "stream",
     "text": [
      "[[0.]\n",
      " [0.]\n",
      " [0.]\n",
      " [0.]\n",
      " [0.]\n",
      " [0.]\n",
      " [0.]\n",
      " [0.]]\n"
     ]
    }
   ],
   "source": [
    "print(psi_5)"
   ]
  },
  {
   "cell_type": "markdown",
   "metadata": {},
   "source": [
    "#### Result:\n",
    "The repeated evolutions eliminate the amplitudes of non-target states, thereby increasing the amplitude of the desired target state, until there is a 50% chance of measuring the target state after the third evolution. \n",
    "\n",
    "However, evolutions beyond the optimal number will have a negative effect on the search result"
   ]
  }
 ],
 "metadata": {
  "kernelspec": {
   "display_name": "Python 3",
   "language": "python",
   "name": "python3"
  },
  "language_info": {
   "codemirror_mode": {
    "name": "ipython",
    "version": 3
   },
   "file_extension": ".py",
   "mimetype": "text/x-python",
   "name": "python",
   "nbconvert_exporter": "python",
   "pygments_lexer": "ipython3",
   "version": "3.8.5"
  }
 },
 "nbformat": 4,
 "nbformat_minor": 4
}
