{
  "cells": [
    {
      "cell_type": "code",
      "execution_count": 1,
      "metadata": {
        "trusted": true
      },
      "outputs": [
        {
          "name": "stderr",
          "output_type": "stream",
          "text": "/opt/conda/lib/python3.7/site-packages/qiskit/providers/ibmq/ibmqfactory.py:192: UserWarning: Timestamps in IBMQ backend properties, jobs, and job results are all now in local time instead of UTC.\n  warnings.warn('Timestamps in IBMQ backend properties, jobs, and job results '\n"
        }
      ],
      "source": "%matplotlib inline\n# Importing standard Qiskit libraries and configuring account\nfrom qiskit import QuantumCircuit, execute, Aer, IBMQ\nfrom qiskit.compiler import transpile, assemble\nfrom qiskit.tools.jupyter import *\nfrom qiskit.visualization import *\n# Loading your IBM Q account(s)\nprovider = IBMQ.load_account()"
    },
    {
      "cell_type": "code",
      "execution_count": 2,
      "metadata": {
        "trusted": true
      },
      "outputs": [],
      "source": "import numpy as np\nimport random as rand\nimport qiskit\nimport timeit\nfrom qiskit.providers.ibmq.managed import IBMQJobManager"
    },
    {
      "cell_type": "code",
      "execution_count": 3,
      "metadata": {
        "trusted": true
      },
      "outputs": [],
      "source": "## common code\ndef error(x, x_estimate):\n    return np.linalg.norm(x - x_estimate) / np.linalg.norm(x)\n\ndef binarylist_to_int(binary_list):\n    \n    sum = 0\n    \n    two_power = 1\n    \n    for digit in binary_list[-1::-1]:\n        sum += two_power * digit\n        \n        two_power *= 2\n    \n    return sum\n\n\n\ndef int_to_binarylist(integer, num_digits):\n    \"\"\"\n    integer: int\n    \n    num_digits: int, at least 1\n    \n    returns a list of length num_digits, including leading 0s if necessary\n    \"\"\"\n    \n    if num_digits < len(bin(integer)) - 2:\n        raise Exception(\"num_digits too short\")\n\n    \n    binary_list = []\n    \n    for i in range(num_digits)[::-1]:\n        two_power = 2**(i)\n        \n        binary_list.append(int(integer/two_power))\n        \n        integer -= int(integer/two_power) * two_power\n        \n    return binary_list"
    },
    {
      "cell_type": "markdown",
      "metadata": {},
      "source": "# Classical Random Walk LSP"
    },
    {
      "cell_type": "code",
      "execution_count": 10,
      "metadata": {
        "trusted": true
      },
      "outputs": [],
      "source": "class ClassicalRandomWalkHamming:\n    \n    \"\"\"\n    code for classical random walk (?) \n    \"\"\"\n    \n    import numpy as np\n    import random as rand\n    \n    def __init__(self, theta_list):\n        \n        \"\"\"\n        theta_list: list of angles, whose cos and sin correspond to non-flip and flip probabilities\n            [theta_n-1, theta_n-2, ..., theta_1, theta_0]\n        \n        \"\"\"\n        \n        self.theta_list = theta_list\n        \n        self.n = len(theta_list)\n        \n    def p_matrix(self):\n        \"\"\"\n        generates and returns P matrix denoted by thetas\n        \n        the J', J-th element is defined by prod_{l=0,...,n-1} cos^2(theta_l/2)^(1-i_l) * sin^2(theta_l/2)^i_l\n        \n        \"\"\"\n        \n        matrix = np.ones((2**self.n, 2**self.n)) # start with one, to be multiplied\n        \n        for i in range(2**self.n):\n            for j in range(2**self.n):\n                \n                xor_int = i ^ j\n                \n                xor_binary = int_to_binarylist(xor_int, self.n)\n                \n                for idx, digit in enumerate(xor_binary):\n                    if digit == 1: # flip\n                        matrix[i,j] *= np.sin(self.theta_list[idx]/2)**2\n                    elif digit == 0:\n                        matrix[i,j] *= np.cos(self.theta_list[idx]/2)**2\n                    else:\n                        raise Exception(\"Value error\")\n        \n        return matrix \n    \n        \n    def random_step(self, current_node):\n        \"\"\"\n        current_node: list of 0s and 1s [b_n-1, b_n-2, ..., b_1, b_0]\n        \n        iterates through each digit and flips according to probabilities given by thetas\n        \n        returns a list of 0s and 1s\n        \"\"\"\n        \n        def bit_flip(one_or_zero):\n            if one_or_zero == 0:\n                return 1\n            elif one_or_zero == 1:\n                return 0\n            else:\n                raise Exception(\"Value not 0 or 1\")\n                \n#         for idx, theta in enumerate(self.theta_list):\n#             rand_val = rand.random() # simulate coin flip with value between 0 and 1\n            \n#             if rand_val < (np.sin(theta/2))**2: # flip\n#                 current_node[idx] = bit_flip(current_node[idx])\n                \n#             else: # if rand_val < (np.sin(theta))**2 + (np.cos(theta))**2\n#                 pass # don't flip\n\n        for idx, theta in enumerate(self.theta_list): # start with theta_{n-1}, end with theta_0\n            rand_val = rand.random() # generate random value between 0 and 1\n            \n            if rand_val > (np.sin(theta/2))**2:    \n                pass\n            else: # if rand_val < (np.sin(theta))**2) + np.cos((theta))**2\n                current_node[idx] = bit_flip(current_node[idx])\n        \n        return current_node\n        \n    def random_walk(self, initial_node, num_steps):\n        \"\"\"\n        initial_node: list of 0s and 1s [b_n-1, b_n-2, ..., b_1, b_0]\n        \n        returns a list of 0s and 1s\n        \"\"\"\n        \n        current_node = initial_node\n        \n        for step in range(num_steps):\n            current_node = self.random_step(current_node)\n            \n        return current_node\n    \n    \ndef x_component_crw(theta_list, gamma, b, x_component_index, c, d):\n    \"\"\"\n    theta_list: list of angles, whose cos and sin correspond to non-flip and flip probabilities\n            [theta_n-1, theta_n-2, ..., theta_1, theta_0]\n        \n        for A = 1 - gamma*P,\n        \n        A @ x = b\n        \n        A_inv = sum_{s=0,...,inf} (gamma^s * P^s)\n        A_inv_c = sum_{s=0,...,c} (gamma^s * P^s)\n        \n        x_c = A_inv_c @ b\n        \n    b: 1D list or np.array representing end result vector\n    x_component_index: int\n    c: int; truncation of series (deptH)\n    d: int; number of times to perform each step (num_shots)\n    \n    returns the appropriate index value of x_c (truncated up to error ~ gamma^c)\n    \"\"\"\n    crw = ClassicalRandomWalkHamming(theta_list)\n    \n    prep_node = int_to_binarylist(x_component_index, num_digits = crw.n)\n    \n    x_component = 0\n    \n    for s in range(0, c+1): # number of steps starting at 0\n        \n        total_sum = 0\n        \n        for iter in range(d):\n            final_node = crw.random_walk(prep_node, s)\n            final_node_int = binarylist_to_int(final_node)\n            total_sum += b[final_node_int]\n                    \n        avg_sum = total_sum / d\n        \n        avg_sum *= gamma**s\n        \n        ## add to component value\n        x_component += avg_sum\n        \n    return x_component"
    },
    {
      "cell_type": "markdown",
      "metadata": {},
      "source": "### 32 x 32 Random Matrix Test"
    },
    {
      "cell_type": "code",
      "execution_count": 11,
      "metadata": {
        "trusted": true
      },
      "outputs": [],
      "source": "n = 5\ntheta_list = [rand.random()*np.pi for i in range(n)] ## generate random angles\n\ncrw = ClassicalRandomWalkHamming(theta_list)\nP = crw.p_matrix() ## get stochastic matrix\n\ngamma = 0.5 * rand.random() # multiplicative constant between 0 and 1 - made smaller for illustrative purposes\n\nA = np.eye(2**n) - gamma*P\nb = np.array([-1+2*rand.random() for i in range(2**n)]) ## generate random vector\nx = np.linalg.inv(A) @ b ## calculate exact solution"
    },
    {
      "cell_type": "code",
      "execution_count": 12,
      "metadata": {
        "trusted": true
      },
      "outputs": [
        {
          "name": "stdout",
          "output_type": "stream",
          "text": "0.32903943794434065\n[[0.00066927 0.07664998 0.00018832 ... 0.07114605 0.00017479 0.02001869]\n [0.07664998 0.00066927 0.02156735 ... 0.00062121 0.02001869 0.00017479]\n [0.00018832 0.02156735 0.00066927 ... 0.02001869 0.00062121 0.07114605]\n ...\n [0.07114605 0.00062121 0.02001869 ... 0.00066927 0.02156735 0.00018832]\n [0.00017479 0.02001869 0.00062121 ... 0.02156735 0.00066927 0.07664998]\n [0.02001869 0.00017479 0.07114605 ... 0.00018832 0.07664998 0.00066927]]\n[[ 9.99779784e-01 -2.52208672e-02 -6.19633200e-05 ... -2.34098561e-02\n  -5.75139780e-05 -6.58693790e-03]\n [-2.52208672e-02  9.99779784e-01 -7.09651036e-03 ... -2.04403619e-04\n  -6.58693790e-03 -5.75139780e-05]\n [-6.19633200e-05 -7.09651036e-03  9.99779784e-01 ... -6.58693790e-03\n  -2.04403619e-04 -2.34098561e-02]\n ...\n [-2.34098561e-02 -2.04403619e-04 -6.58693790e-03 ...  9.99779784e-01\n  -7.09651036e-03 -6.19633200e-05]\n [-5.75139780e-05 -6.58693790e-03 -2.04403619e-04 ... -7.09651036e-03\n   9.99779784e-01 -2.52208672e-02]\n [-6.58693790e-03 -5.75139780e-05 -2.34098561e-02 ... -6.19633200e-05\n  -2.52208672e-02  9.99779784e-01]]\n[ 0.27738457 -0.43997708  0.24858126 -0.64119325  0.95831478  0.10323327\n  0.79821222  0.76007852 -0.71660015 -0.67060899  0.69950272  0.63839389\n  0.27261371  0.76314578  0.56428877  0.74000234  0.72547628  0.45592842\n -0.40658708  0.70081588  0.03855794 -0.87243825  0.23276107  0.42350044\n  0.8050136  -0.17920948  0.32607003 -0.28856041  0.52889852  0.64552415\n -0.67626816 -0.36839715]\n[ 0.2985103  -0.33680684  0.3164614  -0.53023054  1.07900319  0.23268531\n  0.91537249  0.85315736 -0.68798994 -0.54005659  0.77699867  0.72479348\n  0.31628107  0.92235101  0.69040503  0.87339903  0.74074382  0.54261715\n -0.33176126  0.81946174  0.16670658 -0.74244845  0.36715817  0.53536646\n  0.82176215 -0.05456947  0.39188783 -0.19130458  0.58254367  0.81512192\n -0.54221076 -0.21760448]\n"
        }
      ],
      "source": "print(gamma)\nprint(P)\nprint(A)\nprint(b)\nprint(x)"
    },
    {
      "cell_type": "code",
      "execution_count": 13,
      "metadata": {
        "trusted": true
      },
      "outputs": [
        {
          "name": "stdout",
          "output_type": "stream",
          "text": "time elapsed: 29.29904199996963\n"
        }
      ],
      "source": "## get solution with random walk\nstart = timeit.default_timer()\n### timing\ndepth = 6 \nnum_shots = 5000 ## num_shots\n\nx_estimate = np.array([x_component_crw(theta_list, gamma, b, x_component_index, depth, num_shots) \n                      for x_component_index in range(2**n)]) ## get solution vector with CRW\n\n###########\nend = timeit.default_timer()\nprint(f\"time elapsed: {end-start}\")"
    },
    {
      "cell_type": "code",
      "execution_count": 14,
      "metadata": {
        "trusted": true
      },
      "outputs": [
        {
          "data": {
            "text/plain": "0.0685673645532875"
          },
          "execution_count": 14,
          "metadata": {},
          "output_type": "execute_result"
        }
      ],
      "source": "## getting error rate\nerror(x, x_estimate)"
    },
    {
      "cell_type": "markdown",
      "metadata": {},
      "source": "# Quantum Random Walk LSP - With Simulated Backend"
    },
    {
      "cell_type": "code",
      "execution_count": 31,
      "metadata": {
        "trusted": true
      },
      "outputs": [],
      "source": "def int_to_binarylist(integer, num_digits):\n    \"\"\"\n    integer: int\n    \n    num_digits: int, at least 1\n    \n    returns a list of length num_digits, including leading 0s if necessary\n    \"\"\"\n    \n    if num_digits < len(bin(integer)) - 2:\n        raise Exception(\"num_digits too short\")\n\n    \n    binary_list = []\n    \n    for i in range(num_digits)[::-1]:\n        two_power = 2**(i)\n        \n        binary_list.append(int(integer/two_power))\n        \n        integer -= int(integer/two_power) * two_power\n        \n    return binary_list\n\n\nclass QuantumRandomWalkHamming:\n    \n    import numpy as np\n    import qiskit\n    \n    def __init__(self, angle_list):\n        \"\"\"\n        angle_list: list of [theta, phi, lambda] triples, starting with index n-1 and ending with 0 (left to right)\n        \n        \"\"\"\n        self.angle_list = angle_list\n        \n        self.n = len(angle_list)\n       \n    \n    def p_matrix(self):\n        \"\"\"\n        generates the appropriate numpy matrix\n        \n        \"\"\"\n        matrix = np.ones( (2**self.n, 2**self.n) ) # start with ones, values will be multiplied\n        \n        for i in range(2**self.n): # rows\n            for j in range(2**self.n): # columns\n                \n                xor_int = i  ^ j\n                \n                xor_binarylist = int_to_binarylist(xor_int, self.n)\n                \n                # test pairs n-1,n-2; n-2,n-3; ...; 1,0\n                for idx in range(len(xor_binarylist) - 1):\n                    \n                    power = xor_binarylist[idx] ^ xor_binarylist[idx+1]\n                    \n                    if power == 1:\n                        matrix[i][j] *= np.sin(self.angle_list[idx][0]/2)**2 # sin(theta_idx/2) ^ 2\n                    elif power == 0:\n                        matrix[i][j] *= np.cos(self.angle_list[idx][0]/2)**2 # cos(theta_idx/2) ^ 2\n                    else:\n                        raise Exception(\"Value error\")\n                        \n                # test pair 0,-1\n                idx = len(xor_binarylist) - 1\n                power = xor_binarylist[idx]\n                \n                if power == 1:\n                    matrix[i][j] *= np.sin(self.angle_list[idx][0]/2)**2\n                elif power == 0:\n                    matrix[i][j] *= np.cos(self.angle_list[idx][0]/2)**2\n                else:\n                    raise Exception(\"Value error\")\n                \n        return matrix\n            \n        \n    def random_step(self, initial_node):\n        \"\"\"\n        initial_node: an int as a binary_list\n        \n        returns the final node as a binary_list\n        \"\"\"\n        \n        ## instantiate circuit stuff\n        qr = qiskit.QuantumRegister(self.n + 1) # nth index qubit is coin \n        cr = qiskit.ClassicalRegister(self.n)\n        \n        qc = qiskit.QuantumCircuit(qr, cr)\n        \n        ## initialize registers according to initial_node\n        for idx, bit in enumerate(initial_node[-1::-1]):\n            if bit == 1:\n                qc.x(idx)\n            elif bit == 0:\n                pass\n            else:\n                raise Exception(\"Value error\")\n        \n        \n        ## perform coin flip unitary operations and cnots\n        # iterate from back to front, since self.angle_list goes from n-1 to 0\n        for idx, triple in enumerate(self.angle_list[-1::-1]):\n            \n            # apply u3 to coin qubit\n            qc.u(triple[0], triple[1], triple[2], self.n) # (theta, phi, lambda, coin_idx)\n            \n            # apply cnot, with control on coin qubit, target on idx-th qubit \n            qc.cnot(self.n, idx) # (control, target)\n        \n        # apply measurement operation\n        qc.measure(qr[0:self.n], cr[0:self.n]) # exclude coin qubit\n        \n        ## readout final result, then convert to binary_list\n        # use qasm simulator by default\n        result = qiskit.execute(qc, backend = qiskit.Aer.get_backend('qasm_simulator'), shots = 1).result()\n        counts = result.get_counts()\n        \n#         print(counts)\n        \n        # convert dict_keys to list, then get key\n        final_node_str = list(counts.keys())[0] # returned as str\n        \n        final_node_list = [digit_char for digit_char in final_node_str]\n        \n        final_node_binarylist = [int(digit_char) for digit_char in final_node_list]\n        \n        return final_node_binarylist\n        \n    def random_walk(self, initial_node, num_steps):\n        \"\"\"\n        initial_node: an int as a binary_list\n        num_steps: int\n        \n        \"\"\"\n        \n        current_node = initial_node\n        \n        for step in range(num_steps):\n            \n            current_node = self.random_step(current_node)\n            \n        return current_node\n    \n    \n    \n## code for qrw linear solver\ndef x_component_qrw(angle_list, gamma, b, x_component_index, c, d):\n    \"\"\"\n    angle_list: list of [theta, phi, lambda] triples that correspond to coin unitaries\n                    listed n-1, n-2, ..., 0 from left to right\n        \n        for A = 1 - gamma*P,\n        \n        A @ x = b\n        \n        A_inv = sum_{s=0,...,inf} (gamma^s * P^s)\n        A_inv_c = sum_{s=0,...,c} (gamma^s * P^s)\n        \n        x_c = A_inv_c @ b\n        \n    b: 1D list or np.array representing end result vector\n    x_component_index: int\n    c: int; cutoff \n    d: int; number of times to perform each step - a value from 100 to 10000 can be used \n    \n    returns the appropriate index value of x_c (truncated up to error ~ gamma^c)\n    \"\"\"\n    qrw = QuantumRandomWalkHamming(angle_list)\n    \n    prep_node = int_to_binarylist(x_component_index, num_digits = qrw.n)\n    \n    x_component = 0\n    \n    for s in range(0, c+1): # number of steps starting at 0\n        \n        total_sum = 0\n        \n        for iter in range(d):\n            final_node = qrw.random_walk(prep_node, s)\n            final_node_int = binarylist_to_int(final_node)\n            total_sum += b[final_node_int]\n                    \n        avg_sum = total_sum / d\n        \n        avg_sum *= gamma**s\n        \n        ## add to component value\n        x_component += avg_sum\n        \n    return x_component"
    },
    {
      "cell_type": "markdown",
      "metadata": {},
      "source": "### 4 x 4 Random Matrix Test"
    },
    {
      "cell_type": "code",
      "execution_count": 32,
      "metadata": {
        "trusted": true
      },
      "outputs": [],
      "source": "n = 2 # for 2^2 = 4\n\nangle_list = [(rand.random()*np.pi, 0, 0) for i in range(n)] ## generate random triplets\n\nqrw = QuantumRandomWalkHamming(angle_list)\nP = qrw.p_matrix()\n\ngamma = 0.5 * rand.random() # multiplicative constant between 0 and 1 - made smaller for illustrative purposes\n\nA = np.eye(2**n) - gamma*P\nb = np.array([-1+2*rand.random() for i in range(2**n)])\nx = np.linalg.inv(A) @ b"
    },
    {
      "cell_type": "code",
      "execution_count": 33,
      "metadata": {
        "trusted": true
      },
      "outputs": [
        {
          "name": "stdout",
          "output_type": "stream",
          "text": "0.1666172355114866\n[[0.82203621 0.00660186 0.0419287  0.12943324]\n [0.00660186 0.82203621 0.12943324 0.0419287 ]\n [0.0419287  0.12943324 0.82203621 0.00660186]\n [0.12943324 0.0419287  0.00660186 0.82203621]]\n[[ 0.8630346  -0.00109998 -0.00698604 -0.02156581]\n [-0.00109998  0.8630346  -0.02156581 -0.00698604]\n [-0.00698604 -0.02156581  0.8630346  -0.00109998]\n [-0.02156581 -0.00698604 -0.00109998  0.8630346 ]]\n[-0.44112706  0.17299481 -0.4602122  -0.20322823]\n[-0.5214052   0.18445667 -0.53317591 -0.24769647]\n"
        }
      ],
      "source": "print(gamma)\nprint(P)\nprint(A)\nprint(b)\nprint(x)"
    },
    {
      "cell_type": "code",
      "execution_count": 34,
      "metadata": {
        "trusted": true
      },
      "outputs": [
        {
          "name": "stdout",
          "output_type": "stream",
          "text": "time elapsed: 32.44782046799082\n"
        }
      ],
      "source": "## get solution with random walk\nstart = timeit.default_timer()\n### timing\n\ndepth = 6 \nnum_shots = 100 ## num_shots\n\nx_estimate = np.array([x_component_qrw(angle_list, gamma, b, x_component_index, depth, num_shots) \n                  for x_component_index in range(2**n)])\n\n###########\nend = timeit.default_timer()\nprint(f\"time elapsed: {end-start}\")"
    },
    {
      "cell_type": "code",
      "execution_count": 35,
      "metadata": {
        "trusted": true
      },
      "outputs": [
        {
          "data": {
            "text/plain": "0.009133708604856367"
          },
          "execution_count": 35,
          "metadata": {},
          "output_type": "execute_result"
        }
      ],
      "source": "## getting error rate\nerror(x, x_estimate)"
    },
    {
      "cell_type": "markdown",
      "metadata": {},
      "source": "# Quantum Random Walk LSP - With Real Backend\nNote: this might take a while to execute on real systems due to long queue wait times"
    },
    {
      "cell_type": "code",
      "execution_count": 36,
      "metadata": {
        "trusted": true
      },
      "outputs": [],
      "source": "class QuantumRandomWalkHamming:\n    \n    import numpy as np\n    import qiskit\n    \n    def __init__(self, angle_list):\n        \"\"\"\n        angle_list: list of [theta, phi, lambda] triples, starting with index n-1 and ending with 0 (left to right)\n        \n        \"\"\"\n        self.angle_list = angle_list\n        \n        self.n = len(angle_list)\n       \n    \n    def p_matrix(self):\n        \"\"\"\n        generates the appropriate numpy matrix\n        \n        \"\"\"\n        matrix = np.ones( (2**self.n, 2**self.n) ) # start with ones, values will be multiplied\n        \n        for i in range(2**self.n): # rows\n            for j in range(2**self.n): # columns\n                \n                xor_int = i  ^ j\n                \n                xor_binarylist = int_to_binarylist(xor_int, self.n)\n                \n                # test pairs n-1,n-2; n-2,n-3; ...; 1,0\n                for idx in range(len(xor_binarylist) - 1):\n                    \n                    power = xor_binarylist[idx] ^ xor_binarylist[idx+1]\n                    \n                    if power == 1:\n                        matrix[i][j] *= np.sin(self.angle_list[idx][0]/2)**2 # sin(theta_idx/2) ^ 2\n                    elif power == 0:\n                        matrix[i][j] *= np.cos(self.angle_list[idx][0]/2)**2 # cos(theta_idx/2) ^ 2\n                    else:\n                        raise Exception(\"Value error\")\n                        \n                # test pair 0,-1\n                idx = len(xor_binarylist) - 1\n                power = xor_binarylist[idx]\n                \n                if power == 1:\n                    matrix[i][j] *= np.sin(self.angle_list[idx][0]/2)**2\n                elif power == 0:\n                    matrix[i][j] *= np.cos(self.angle_list[idx][0]/2)**2\n                else:\n                    raise Exception(\"Value error\")\n                \n        return matrix\n            \n        \n    def random_step(self, initial_node):\n        \"\"\"\n        initial_node: an int as a binary_list\n        \n        returns the final node as a binary_list\n        \"\"\"\n        \n        ## instantiate circuit stuff\n        qr = qiskit.QuantumRegister(self.n + 1) # nth index qubit is coin \n        cr = qiskit.ClassicalRegister(self.n)\n        \n        qc = qiskit.QuantumCircuit(qr, cr)\n        \n        ## initialize registers according to initial_node\n        for idx, bit in enumerate(initial_node[-1::-1]):\n            if bit == 1:\n                qc.x(idx)\n            elif bit == 0:\n                pass\n            else:\n                raise Exception(\"Value error\")\n        \n        \n        ## perform coin flip unitary operations and cnots\n        # iterate from back to front, since self.angle_list goes from n-1 to 0\n        for idx, triple in enumerate(self.angle_list[-1::-1]):\n            \n            # apply u3 to coin qubit\n            qc.u(triple[0], triple[1], triple[2], self.n) # (theta, phi, lambda, coin_idx)\n            \n            # apply cnot, with control on coin qubit, target on idx-th qubit \n            qc.cnot(self.n, idx) # (control, target)\n        \n#         # apply measurement operation\n        qc.measure(qr[0:self.n], cr[0:self.n]) # exclude coin qubit\n                ### note: previously I forgot to uncomment this \n        \n        ### unused code from qasm_simulator implementation        \n#         ## readout final result, then convert to binary_list\n#         # use qasm simulator by default\n#         result = qiskit.execute(qc, backend = qiskit.Aer.get_backend('qasm_simulator'), shots = 1).result()\n#         counts = result.get_counts()\n        \n# #         print(counts)\n        \n#         # convert dict_keys to list, then get key\n#         final_node_str = list(counts.keys())[0] # returned as str\n        \n#         final_node_list = [digit_char for digit_char in final_node_str]\n        \n#         final_node_binarylist = [int(digit_char) for digit_char in final_node_list]\n        \n#         return final_node_binarylist\n\n        return qc\n        \n    def random_walk(self, initial_node, num_steps):\n        \"\"\"\n        initial_node: an int as a binary_list\n        num_steps: int\n        \n        \"\"\"\n        \n        current_node = initial_node\n        \n        for step in range(num_steps):\n            \n            current_node = self.random_step(current_node)\n            \n        return current_node\n    \n## code for qrw linear solver\ndef x_component_qrw(angle_list, gamma, b, x_component_index, c, d, backend_obj):\n    \"\"\"\n    angle_list: list of [theta, phi, lambda] triples that correspond to coin unitaries\n                    listed n-1, n-2, ..., 0 from left to right\n        \n        for A = 1 - gamma*P,\n        \n        A @ x = b\n        \n        A_inv = sum_{s=0,...,inf} (gamma^s * P^s)\n        A_inv_c = sum_{s=0,...,c} (gamma^s * P^s)\n        \n        x_c = A_inv_c @ b\n        \n    b: 1D list or np.array representing end result vector\n    x_component_index: int\n    c: int; cutoff \n    d: int; number of times to perform each step - a value from 100 to 10000 can be used \n    \n    returns the appropriate index value of x_c (truncated up to error ~ gamma^c)\n    \"\"\"\n    from qiskit.providers.ibmq.managed import IBMQJobManager\n    import time\n    \n    qrw = QuantumRandomWalkHamming(angle_list)\n    \n    prep_node = int_to_binarylist(x_component_index, num_digits = qrw.n)\n    \n    x_component = 0 ## final value to be returned\n    \n    walk_nodes = [prep_node for i in range(d)]\n    \n    \n    ## total number of batches\n    completed_jobs = 0\n    total_jobs = 0\n    for s in range(1, c+1):\n        for sub_step in range(s):\n            total_jobs += int(np.ceil(d/75))\n    \n    ## for 0 steps\n    total_sum = 0\n    \n    for i in range(d):\n        final_node_list = walk_nodes[i]\n\n        final_node_int = binarylist_to_int(final_node_list)\n        total_sum += b[final_node_int]\n                    \n        avg_sum = total_sum / d\n        \n        avg_sum *= gamma**0\n        \n    x_component += avg_sum\n    \n    \n    for s in range(1, c+1): # number of steps starting at 1\n        \n        total_sum = 0\n        \n        walk_nodes = [prep_node for i in range(d)]\n        \n        for sub_step in range(s): ## don't reuse steps \n        \n            ## submit jobs\n            qc_list = []\n\n            for node in walk_nodes:\n                qc_list.append(qrw.random_step(node))\n\n            transpiled_thing = qiskit.transpile(qc_list, backend = backend_obj)\n\n            job_manager = IBMQJobManager()\n\n            job_set = job_manager.run(transpiled_thing, backend = backend_obj, shots = 1)\n\n            ## get results\n            start = timeit.default_timer()\n            while True:\n                time.sleep(2)\n\n                completed_idx = job_set.report().find('Successful jobs: ')\n    #             queue_idx = job_set.report().find('queue position: ')\n\n                current_completed_jobs = job_set.report()[completed_idx:][len('Successful jobs: ')]\n\n    #             if queue_idx == -1:\n    #                 queue_position = -1\n    #             else:\n    #                 queue_position = job_set.report()[queue_idx:][len('queue position: ')]\n\n                ## for each step, 1st number is # of batches completed, 2nd number is # of total batches, 3rd is time elapsed\n#                 print('\\r', current_completed_jobs, str(int(np.ceil(d/75))), (timeit.default_timer()-start), end = '', flush = True)\n#                 print('\\r', str(completed_batches+int(current_completed_jobs)), \n#                       str(total_batches), (timeit.default_timer()-start), end = '', flush = True)\n                print(f\"\\r jobs done: {completed_jobs+int(current_completed_jobs)}/{total_jobs}, current batch time: {timeit.default_timer()-start}\", end = '', flush = True)\n                if current_completed_jobs == str(int(np.ceil(d/75))):\n                    completed_jobs += int(current_completed_jobs)\n                    break # jobs are finished\n\n            results = job_set.results()\n\n            for i in range(d):\n                final_node_str = list(results.get_counts(i).keys())[0]\n                final_node_list = [int(digit_char) for digit_char in final_node_str]\n\n                # update nodes\n                walk_nodes[i] = final_node_list.copy()\n            \n        ## calculate addend at the end\n        for i in range(d):\n            final_node_str = list(results.get_counts(i).keys())[0]\n            final_node_list = [int(digit_char) for digit_char in final_node_str]\n            \n            final_node_int = binarylist_to_int(final_node_list)\n            total_sum += b[final_node_int]\n                    \n        avg_sum = total_sum / d\n        \n        avg_sum *= gamma**s\n        \n        ## add to component value\n        x_component += avg_sum\n        \n    return x_component"
    },
    {
      "cell_type": "markdown",
      "metadata": {},
      "source": "### 4 x 4 Random Matrix Test"
    },
    {
      "cell_type": "code",
      "execution_count": 37,
      "metadata": {
        "trusted": true
      },
      "outputs": [],
      "source": "n = 2 # for 2^2 = 4\n\nangle_list = [(rand.random()*np.pi, 0, 0) for i in range(n)] ## generate random triplets\n\nqrw = QuantumRandomWalkHamming(angle_list)\nP = qrw.p_matrix()\n\ngamma = 0.5 * rand.random() # multiplicative constant between 0 and 1 - made smaller for illustrative purposes\n\nA = np.eye(2**n) - gamma*P\nb = np.array([-1+2*rand.random() for i in range(2**n)])\nx = np.linalg.inv(A) @ b"
    },
    {
      "cell_type": "code",
      "execution_count": 38,
      "metadata": {
        "trusted": true
      },
      "outputs": [
        {
          "name": "stdout",
          "output_type": "stream",
          "text": "0.10963546816737957\n[[0.83965326 0.00657658 0.05715513 0.09661503]\n [0.00657658 0.83965326 0.09661503 0.05715513]\n [0.05715513 0.09661503 0.83965326 0.00657658]\n [0.09661503 0.05715513 0.00657658 0.83965326]]\n[[ 9.07944222e-01 -7.21026177e-04 -6.26622996e-03 -1.05924338e-02]\n [-7.21026177e-04  9.07944222e-01 -1.05924338e-02 -6.26622996e-03]\n [-6.26622996e-03 -1.05924338e-02  9.07944222e-01 -7.21026177e-04]\n [-1.05924338e-02 -6.26622996e-03 -7.21026177e-04  9.07944222e-01]]\n[ 0.81120779 -0.37702974  0.63761067  0.11690127]\n[ 0.89958965 -0.40538519  0.70384553  0.13700992]\n"
        }
      ],
      "source": "print(gamma)\nprint(P)\nprint(A)\nprint(b)\nprint(x)"
    },
    {
      "cell_type": "code",
      "execution_count": null,
      "metadata": {
        "trusted": true
      },
      "outputs": [
        {
          "name": "stdout",
          "output_type": "stream",
          "text": "component #0:\n jobs done: 27/42, current batch time: 3860.4572056260662"
        }
      ],
      "source": "## get solution with random walk\nstart = timeit.default_timer()\n### timing\n\nbackend_string = 'ibmq_santiago' ## change according to backend\nbackend = provider.get_backend(backend_string)\n\ndepth = 6 \nnum_shots = 100 ## num_shots\n\nx_estimate = np.array([0 for idx in range(2**n)])\nfor x_component_index in range(2**n):\n    print(f\"component #{x_component_idx}:\")\n    x_estimate[x_component_index] = x_component_qrw(angle_list, gamma, b, x_component_index, depth, num_shots, backend)\n    print()\n\n###########\nend = timeit.default_timer()\nprint(f\"time elapsed: {end-start}\")"
    },
    {
      "cell_type": "code",
      "execution_count": null,
      "metadata": {
        "trusted": true
      },
      "outputs": [],
      "source": "## getting error rate\nerror(x, x_estimate)"
    }
  ],
  "metadata": {
    "kernelspec": {
      "display_name": "Python 3",
      "language": "python",
      "name": "python3"
    }
  },
  "nbformat": 4,
  "nbformat_minor": 4
}